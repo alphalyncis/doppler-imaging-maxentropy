{
 "cells": [
  {
   "cell_type": "code",
   "execution_count": 1,
   "metadata": {},
   "outputs": [],
   "source": [
    "import dime\n",
    "import numpy as np"
   ]
  },
  {
   "cell_type": "code",
   "execution_count": 2,
   "metadata": {},
   "outputs": [
    {
     "name": "stdout",
     "output_type": "stream",
     "text": [
      "j: [   0    1    2 ... 1747 1748 1749]\n",
      "k: [   0    0    0 ... 1625 1625 1625]\n",
      "l: [ 124  124  124 ... 1749 1749 1749]\n",
      "jfrac: [0.         0.00806452 0.01612903 ... 0.98387097 0.99193548 1.        ]\n"
     ]
    }
   ],
   "source": [
    "nobs = 14\n",
    "nk = 125\n",
    "dime.setup(nobs*nk, nk)"
   ]
  },
  {
   "cell_type": "code",
   "execution_count": 3,
   "metadata": {},
   "outputs": [
    {
     "ename": "NameError",
     "evalue": "name 'j' is not defined",
     "output_type": "error",
     "traceback": [
      "\u001b[0;31m---------------------------------------------------------------------------\u001b[0m",
      "\u001b[0;31mNameError\u001b[0m                                 Traceback (most recent call last)",
      "Cell \u001b[0;32mIn[3], line 1\u001b[0m\n\u001b[0;32m----> 1\u001b[0m \u001b[43mj\u001b[49m\n",
      "\u001b[0;31mNameError\u001b[0m: name 'j' is not defined"
     ]
    }
   ],
   "source": [
    "j"
   ]
  },
  {
   "cell_type": "code",
   "execution_count": null,
   "metadata": {},
   "outputs": [],
   "source": [
    "class DopplerImaging:\n",
    "    def __init__(self, nk, nobs, LLD, map, )"
   ]
  },
  {
   "cell_type": "code",
   "execution_count": null,
   "metadata": {},
   "outputs": [],
   "source": [
    "def lsq(x, z, w, retcov=False, checkvals=True):\n",
    "    \"\"\"Do weighted least-squares fitting. \n",
    "    z = c0 + c1 * x1 + c2 * x2 + ... + cN * xN\n",
    "\n",
    "    :INPUTS:\n",
    "      x : sequence\n",
    "        tuple of 1D vectors of equal lengths N, or the transposed\n",
    "        numpy.vstack of this tuple\n",
    "\n",
    "      z : sequence\n",
    "        vector of length N; data to fit to.\n",
    "\n",
    "      w : sequence\n",
    "        Either an N-vector or NxN array of weights (e.g., 1./sigma_z**2)\n",
    "\n",
    "      retcov : bool.  \n",
    "        If True, also return covariance matrix.\n",
    "\n",
    "      checkvals : bool\n",
    "        If True, check that all values are finite values.  This is\n",
    "        safer, but the array-based indexing slows down the function.\n",
    "\n",
    "    :RETURNS: \n",
    "       the tuple of (coef, coeferrs, {cov_matrix})\"\"\"\n",
    "\n",
    "    if isinstance(x,tuple) or isinstance(x,list):\n",
    "        Xmat = np.vstack(x).transpose()\n",
    "    elif isinstance(x, np.ndarray) and x.ndim < 2:\n",
    "        Xmat = x.reshape(len(x),1)\n",
    "    else:\n",
    "        Xmat = np.array(x, copy=False)\n",
    "\n",
    "    z = np.array(z, copy=False)\n",
    "\n",
    "    w = np.array(w,copy=True)\n",
    "    if w.ndim < 2:\n",
    "        w = np.diag(w)\n",
    "\n",
    "    if checkvals:\n",
    "        goodind = np.isfinite(Xmat.sum(1))*np.isfinite(z)*np.isfinite(np.diag(w))\n",
    "\n",
    "    if checkvals:\n",
    "        Wmat = w[goodind][:,goodind]\n",
    "        XtW = np.dot(Xmat[goodind,:].transpose(),Wmat)\n",
    "        fitcoef = np.dot(np.dot(np.linalg.pinv(np.dot(XtW,Xmat[goodind,:])),XtW), z[goodind])\n",
    "        covmat = (np.linalg.pinv(np.dot(XtW, Xmat[goodind,:])))\n",
    "    else:\n",
    "        Wmat = w\n",
    "        XtW = np.dot(Xmat.transpose(),Wmat)\n",
    "        fitcoef = np.dot(np.dot(np.linalg.pinv(np.dot(XtW,Xmat)),XtW), z)\n",
    "        covmat = (np.linalg.pinv(np.dot(XtW, Xmat)))\n",
    "\n",
    "\n",
    "    efitcoef = np.sqrt(np.diag(covmat))\n",
    "        \n",
    "    if retcov:\n",
    "        return fitcoef, efitcoef, covmat\n",
    "    else:\n",
    "        return fitcoef, efitcoef"
   ]
  }
 ],
 "metadata": {
  "kernelspec": {
   "display_name": "base",
   "language": "python",
   "name": "python3"
  },
  "language_info": {
   "codemirror_mode": {
    "name": "ipython",
    "version": 3
   },
   "file_extension": ".py",
   "mimetype": "text/x-python",
   "name": "python",
   "nbconvert_exporter": "python",
   "pygments_lexer": "ipython3",
   "version": "3.9.6"
  }
 },
 "nbformat": 4,
 "nbformat_minor": 2
}
