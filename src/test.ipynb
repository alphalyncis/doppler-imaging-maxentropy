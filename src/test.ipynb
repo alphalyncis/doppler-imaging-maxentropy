{
 "cells": [
  {
   "cell_type": "code",
   "execution_count": 2,
   "metadata": {},
   "outputs": [],
   "source": [
    "import dime\n",
    "import numpy as np\n",
    "import matplotlib.pyplot as plt"
   ]
  },
  {
   "cell_type": "code",
   "execution_count": 8,
   "metadata": {},
   "outputs": [],
   "source": [
    "def make_toy_spectrum(wavmin, wavmax, npix, \n",
    "                      amps=[0.9, 0.9, 0.9, 0.9, 0.9],\n",
    "                      centers=[2330, 2335, 2338, 2345, 2347], \n",
    "                      widths=[0.03, 0.03, 0.03, 0.03, 0.03]):\n",
    "    '''Make a toy spectrum for testing.\n",
    "\n",
    "    Parameters\n",
    "    ----------\n",
    "        wavmin: float\n",
    "            Minimum wavelength in nm.\n",
    "        wavmax: float\n",
    "            Maximum wavelength in nm.\n",
    "        npix: int\n",
    "            Number of pixels in spectrum.\n",
    "        amps: list\n",
    "            Amplitudes of the Gaussian lines.\n",
    "        centers: list\n",
    "            Centers of the Gaussian lines.\n",
    "        widths: list\n",
    "            Widths of the Gaussian lines.\n",
    "\n",
    "    Returns\n",
    "    -------\n",
    "        wav: 1darray\n",
    "            Wavelength array in nm.\n",
    "        toy_spec: 1darray\n",
    "            Toy spectrum with Gaussian lines.\n",
    "    '''\n",
    "    wav = np.linspace(wavmin, wavmax, npix)\n",
    "    spec = np.ones_like(wav)\n",
    "    for i in range(len(amps)):\n",
    "        spec -= amps[i] * np.exp(-0.5 * (wav - centers[i])**2 / widths[i]**2)\n",
    "    err = 0.002\n",
    "\n",
    "    return wav, spec, err"
   ]
  },
  {
   "cell_type": "code",
   "execution_count": 9,
   "metadata": {},
   "outputs": [
    {
     "data": {
      "image/png": "[encoded data removed]",
      "text/plain": [
       "<Figure size 1000x200 with 1 Axes>"
      ]
     },
     "metadata": {},
     "output_type": "display_data"
    }
   ],
   "source": [
    "wav, spec, err = make_toy_spectrum(2325, 2350, 1000)\n",
    "plt.figure(figsize=(10, 2))\n",
    "plt.plot(wav, spec);"
   ]
  }
 ],
 "metadata": {
  "kernelspec": {
   "display_name": "base",
   "language": "python",
   "name": "python3"
  },
  "language_info": {
   "codemirror_mode": {
    "name": "ipython",
    "version": 3
   },
   "file_extension": ".py",
   "mimetype": "text/x-python",
   "name": "python",
   "nbconvert_exporter": "python",
   "pygments_lexer": "ipython3",
   "version": "3.9.6"
  }
 },
 "nbformat": 4,
 "nbformat_minor": 2
}
