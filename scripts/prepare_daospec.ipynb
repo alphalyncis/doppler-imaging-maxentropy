{
 "cells": [
  {
   "cell_type": "code",
   "execution_count": 2,
   "metadata": {},
   "outputs": [],
   "source": [
    "import numpy as np\n",
    "import pickle\n",
    "import os\n",
    "import matplotlib.pyplot as plt\n",
    "from astropy.io import fits\n",
    "from scipy.interpolate import interp1d\n",
    "homedir = os.path.expanduser(\"~\")"
   ]
  },
  {
   "cell_type": "code",
   "execution_count": 10,
   "metadata": {},
   "outputs": [
    {
     "data": {
      "text/plain": [
       "(20, 460654)"
      ]
     },
     "execution_count": 10,
     "metadata": {},
     "output_type": "execute_result"
    }
   ],
   "source": [
    "spec_nobroad_all = []\n",
    "wl = np.loadtxt(f\"{homedir}/uoedrive/data/gcm_hires/w1049b-sept2025/high-resolution/wavelength_micron.txt\")\n",
    "for t in range(20):\n",
    "    spec_nobroad = np.loadtxt(f\"{homedir}/uoedrive/data/gcm_hires/w1049b-sept2025/high-resolution/spectrum_erg.s.cm3_nobroaden_time{t+1}.txt\")\n",
    "    spec_nobroad_all.append(spec_nobroad)\n",
    "spec_nobroad_all = np.array(spec_nobroad_all)\n",
    "spec_nobroad_mean = np.nanmedian(spec_nobroad_all,axis=0)\n",
    "spec_nobroad_all.shape"
   ]
  },
  {
   "cell_type": "markdown",
   "metadata": {},
   "source": [
    "L band"
   ]
  },
  {
   "cell_type": "code",
   "execution_count": 13,
   "metadata": {},
   "outputs": [
    {
     "name": "stdout",
     "output_type": "stream",
     "text": [
      "wl(angstrom): 30000.0 33000.0\n",
      "step(angstrom): 0.05\n"
     ]
    }
   ],
   "source": [
    "# in um\n",
    "wlmin = 3.0\n",
    "wlmax = 3.3\n",
    "wlstep = 0.05*1e-4\n",
    "\n",
    "print('wl(angstrom):', wlmin*1e4, wlmax*1e4)\n",
    "print('step(angstrom):', wlstep*1e4)"
   ]
  },
  {
   "cell_type": "code",
   "execution_count": 14,
   "metadata": {},
   "outputs": [
    {
     "data": {
      "text/plain": [
       "(60001,)"
      ]
     },
     "execution_count": 14,
     "metadata": {},
     "output_type": "execute_result"
    }
   ],
   "source": [
    "wl_lin = np.arange(wlmin, wlmax+wlstep, wlstep, dtype=np.float32)  # Include endpoint\n",
    "interp_func = interp1d(wl, spec_nobroad_mean, kind='linear', bounds_error=False, fill_value=0.0)\n",
    "spec_nobroad_lin = interp_func(wl_lin)\n",
    "spec_nobroad_lin.shape"
   ]
  },
  {
   "cell_type": "code",
   "execution_count": 15,
   "metadata": {},
   "outputs": [],
   "source": [
    "# save daospec input spec to fits\n",
    "hdu = fits.PrimaryHDU(spec_nobroad_lin.astype(np.float32))\n",
    "\n",
    "# WCS header keywords\n",
    "hdu.header['CRPIX1'] = 1              # Reference pixel\n",
    "hdu.header['CRVAL1'] = wlmin*1e4          # Wavelength at reference pixel\n",
    "hdu.header['CDELT1'] = wlstep*1e4          # Step size\n",
    "hdu.header['CTYPE1'] = 'LINEAR'\n",
    "\n",
    "# Write to FITS\n",
    "hdu.writeto(f'{homedir}/uoedrive/data/gcm_hires/w1049b-sept2025/w1049b_gcm_L_nobroad_lin.fits', overwrite=True)"
   ]
  },
  {
   "cell_type": "markdown",
   "metadata": {},
   "source": [
    "M band"
   ]
  },
  {
   "cell_type": "code",
   "execution_count": 16,
   "metadata": {},
   "outputs": [
    {
     "name": "stdout",
     "output_type": "stream",
     "text": [
      "wl(angstrom): 44000.0 50000.0\n",
      "step(angstrom): 0.05\n"
     ]
    }
   ],
   "source": [
    "# in um\n",
    "wlmin = 4.4\n",
    "wlmax = 5.0\n",
    "wlstep = 0.05*1e-4\n",
    "\n",
    "print('wl(angstrom):', wlmin*1e4, wlmax*1e4)\n",
    "print('step(angstrom):', wlstep*1e4)"
   ]
  },
  {
   "cell_type": "code",
   "execution_count": 17,
   "metadata": {},
   "outputs": [
    {
     "data": {
      "text/plain": [
       "(120001,)"
      ]
     },
     "execution_count": 17,
     "metadata": {},
     "output_type": "execute_result"
    }
   ],
   "source": [
    "wl_lin = np.arange(wlmin, wlmax+wlstep, wlstep, dtype=np.float32)  # Include endpoint\n",
    "interp_func = interp1d(wl, spec_nobroad_mean, kind='linear', bounds_error=False, fill_value=0.0)\n",
    "spec_nobroad_lin = interp_func(wl_lin)\n",
    "spec_nobroad_lin.shape"
   ]
  },
  {
   "cell_type": "code",
   "execution_count": 18,
   "metadata": {},
   "outputs": [],
   "source": [
    "# save daospec input spec to fits\n",
    "hdu = fits.PrimaryHDU(spec_nobroad_lin.astype(np.float32))\n",
    "\n",
    "# WCS header keywords\n",
    "hdu.header['CRPIX1'] = 1              # Reference pixel\n",
    "hdu.header['CRVAL1'] = wlmin*1e4          # Wavelength at reference pixel\n",
    "hdu.header['CDELT1'] = wlstep*1e4          # Step size\n",
    "hdu.header['CTYPE1'] = 'LINEAR'\n",
    "\n",
    "# Write to FITS\n",
    "hdu.writeto(f'{homedir}/uoedrive/data/gcm_hires/w1049b-sept2025/w1049b_gcm_M_nobroad_lin.fits', overwrite=True)"
   ]
  }
 ],
 "metadata": {
  "kernelspec": {
   "display_name": "venv",
   "language": "python",
   "name": "python3"
  },
  "language_info": {
   "codemirror_mode": {
    "name": "ipython",
    "version": 3
   },
   "file_extension": ".py",
   "mimetype": "text/x-python",
   "name": "python",
   "nbconvert_exporter": "python",
   "pygments_lexer": "ipython3",
   "version": "3.9.6"
  }
 },
 "nbformat": 4,
 "nbformat_minor": 2
}
